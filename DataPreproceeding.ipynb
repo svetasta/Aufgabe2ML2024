{
 "cells": [
  {
   "cell_type": "markdown",
   "metadata": {},
   "source": [
    "### Gruppe 3\n",
    " - Svetlana Marchenko Matrikel NR 20236284\n",
    " - Rachid En Nasiry   Matrikel NR 20240192"
   ]
  },
  {
   "cell_type": "code",
   "execution_count": 50,
   "metadata": {},
   "outputs": [],
   "source": [
    "# Laden der notwendigen Bibliotheken\n",
    "import pandas as pd\n",
    "from sklearn.preprocessing import LabelEncoder\n",
    "import matplotlib.pyplot as plt\n",
    "import seaborn as sns   # https://seaborn.pydata.org\n",
    "\n",
    "import numpy as np\n",
    "\n",
    "FILENAME_DATASET = \"dataconcatPropertyAndAge2305.csv\"\n",
    "\n"
   ]
  },
  {
   "cell_type": "code",
   "execution_count": 51,
   "metadata": {},
   "outputs": [
    {
     "name": "stdout",
     "output_type": "stream",
     "text": [
      "Der Datensatz hat  Zeilen 1949 und 16 Spalten. Die Dimension des Datensatzes ist korrekt.\n"
     ]
    }
   ],
   "source": [
    "#Datensatz wird kopiert und  kontroliert ob die Dimension des Datensatzes ist korrekt\n",
    "df = pd.read_csv(FILENAME_DATASET,\n",
    "                 sep=';',\n",
    "                 encoding='utf-8',\n",
    "                 header=0)\n",
    "df_Copy = df\n",
    "nSpalten = df_Copy.shape[1]\n",
    "nZeilen = df_Copy.shape[0]\n",
    "if nSpalten == 16 and nZeilen == 1949:\n",
    "    print(\n",
    "       f\"Der Datensatz hat  Zeilen {nZeilen} und {nSpalten} Spalten. Die Dimension des Datensatzes ist korrekt.\")\n",
    "else:\n",
    "    print(f\"Fehler: Der Datensatz hat nicht die erwartete Dimension  {nZeilen}  und {nSpalten}\"  )\n",
    "#df_Copy.head("
   ]
  },
  {
   "cell_type": "code",
   "execution_count": 33,
   "metadata": {},
   "outputs": [
    {
     "data": {
      "text/html": [
       "<div>\n",
       "<style scoped>\n",
       "    .dataframe tbody tr th:only-of-type {\n",
       "        vertical-align: middle;\n",
       "    }\n",
       "\n",
       "    .dataframe tbody tr th {\n",
       "        vertical-align: top;\n",
       "    }\n",
       "\n",
       "    .dataframe thead th {\n",
       "        text-align: right;\n",
       "    }\n",
       "</style>\n",
       "<table border=\"1\" class=\"dataframe\">\n",
       "  <thead>\n",
       "    <tr style=\"text-align: right;\">\n",
       "      <th></th>\n",
       "      <th>Unnamed: 0</th>\n",
       "      <th>Location</th>\n",
       "      <th>Price</th>\n",
       "      <th>Rooms</th>\n",
       "      <th>WCs</th>\n",
       "      <th>Net Floor Area (m2)</th>\n",
       "      <th>Gross Private Area (m2)</th>\n",
       "      <th>Parking</th>\n",
       "      <th>Floor</th>\n",
       "      <th>Energy Performance Certificate</th>\n",
       "      <th>Elevator_Not available</th>\n",
       "      <th>Capital</th>\n",
       "      <th>Metropolitan Areas</th>\n",
       "      <th>Large cities</th>\n",
       "      <th>Median Age</th>\n",
       "      <th>Coastal Locations</th>\n",
       "    </tr>\n",
       "  </thead>\n",
       "  <tbody>\n",
       "    <tr>\n",
       "      <th>0</th>\n",
       "      <td>0</td>\n",
       "      <td>Rio Tinto - Medancelhe, Gondomar</td>\n",
       "      <td>220.000</td>\n",
       "      <td>4.0</td>\n",
       "      <td>2.0</td>\n",
       "      <td>126.0</td>\n",
       "      <td>161.0</td>\n",
       "      <td>1.0</td>\n",
       "      <td>0.0</td>\n",
       "      <td>Not available</td>\n",
       "      <td>True</td>\n",
       "      <td>False</td>\n",
       "      <td>True</td>\n",
       "      <td>False</td>\n",
       "      <td>47,1</td>\n",
       "      <td>False</td>\n",
       "    </tr>\n",
       "    <tr>\n",
       "      <th>1</th>\n",
       "      <td>1</td>\n",
       "      <td>Arroios, Lisboa</td>\n",
       "      <td>365.000</td>\n",
       "      <td>2.0</td>\n",
       "      <td>1.0</td>\n",
       "      <td>67.0</td>\n",
       "      <td>67.0</td>\n",
       "      <td>NaN</td>\n",
       "      <td>NaN</td>\n",
       "      <td>Not available</td>\n",
       "      <td>True</td>\n",
       "      <td>True</td>\n",
       "      <td>True</td>\n",
       "      <td>True</td>\n",
       "      <td>44,8</td>\n",
       "      <td>False</td>\n",
       "    </tr>\n",
       "    <tr>\n",
       "      <th>2</th>\n",
       "      <td>2</td>\n",
       "      <td>Fafe, Braga</td>\n",
       "      <td>220.000</td>\n",
       "      <td>4.0</td>\n",
       "      <td>3.0</td>\n",
       "      <td>180.0</td>\n",
       "      <td>164.0</td>\n",
       "      <td>NaN</td>\n",
       "      <td>NaN</td>\n",
       "      <td>Not available</td>\n",
       "      <td>True</td>\n",
       "      <td>False</td>\n",
       "      <td>False</td>\n",
       "      <td>True</td>\n",
       "      <td>44,4</td>\n",
       "      <td>False</td>\n",
       "    </tr>\n",
       "    <tr>\n",
       "      <th>3</th>\n",
       "      <td>3</td>\n",
       "      <td>Bonfim, Porto</td>\n",
       "      <td>230.000</td>\n",
       "      <td>3.0</td>\n",
       "      <td>2.0</td>\n",
       "      <td>87.0</td>\n",
       "      <td>87.0</td>\n",
       "      <td>NaN</td>\n",
       "      <td>NaN</td>\n",
       "      <td>Not available</td>\n",
       "      <td>True</td>\n",
       "      <td>False</td>\n",
       "      <td>True</td>\n",
       "      <td>True</td>\n",
       "      <td>47</td>\n",
       "      <td>True</td>\n",
       "    </tr>\n",
       "    <tr>\n",
       "      <th>4</th>\n",
       "      <td>4</td>\n",
       "      <td>Benfica, Lisboa</td>\n",
       "      <td>460.000</td>\n",
       "      <td>3.0</td>\n",
       "      <td>2.0</td>\n",
       "      <td>81.0</td>\n",
       "      <td>104.0</td>\n",
       "      <td>1.0</td>\n",
       "      <td>9.0</td>\n",
       "      <td>Energy Performance Certificate</td>\n",
       "      <td>False</td>\n",
       "      <td>True</td>\n",
       "      <td>True</td>\n",
       "      <td>True</td>\n",
       "      <td>44,8</td>\n",
       "      <td>False</td>\n",
       "    </tr>\n",
       "  </tbody>\n",
       "</table>\n",
       "</div>"
      ],
      "text/plain": [
       "   Unnamed: 0                          Location    Price  Rooms  WCs  \\\n",
       "0           0  Rio Tinto - Medancelhe, Gondomar  220.000    4.0  2.0   \n",
       "1           1                   Arroios, Lisboa  365.000    2.0  1.0   \n",
       "2           2                       Fafe, Braga  220.000    4.0  3.0   \n",
       "3           3                     Bonfim, Porto  230.000    3.0  2.0   \n",
       "4           4                   Benfica, Lisboa  460.000    3.0  2.0   \n",
       "\n",
       "   Net Floor Area (m2)  Gross Private Area (m2)  Parking  Floor  \\\n",
       "0                126.0                    161.0      1.0    0.0   \n",
       "1                 67.0                     67.0      NaN    NaN   \n",
       "2                180.0                    164.0      NaN    NaN   \n",
       "3                 87.0                     87.0      NaN    NaN   \n",
       "4                 81.0                    104.0      1.0    9.0   \n",
       "\n",
       "   Energy Performance Certificate  Elevator_Not available  Capital  \\\n",
       "0                   Not available                    True    False   \n",
       "1                   Not available                    True     True   \n",
       "2                   Not available                    True    False   \n",
       "3                   Not available                    True    False   \n",
       "4  Energy Performance Certificate                   False     True   \n",
       "\n",
       "   Metropolitan Areas  Large cities Median Age  Coastal Locations  \n",
       "0                True         False       47,1              False  \n",
       "1                True          True       44,8              False  \n",
       "2               False          True       44,4              False  \n",
       "3                True          True         47               True  \n",
       "4                True          True       44,8              False  "
      ]
     },
     "execution_count": 33,
     "metadata": {},
     "output_type": "execute_result"
    }
   ],
   "source": [
    "df_Copy.head()"
   ]
  },
  {
   "cell_type": "code",
   "execution_count": 53,
   "metadata": {},
   "outputs": [
    {
     "name": "stdout",
     "output_type": "stream",
     "text": [
      "<class 'pandas.core.frame.DataFrame'>\n",
      "RangeIndex: 1949 entries, 0 to 1948\n",
      "Data columns (total 16 columns):\n",
      " #   Column                          Non-Null Count  Dtype  \n",
      "---  ------                          --------------  -----  \n",
      " 0   Unnamed: 0                      1949 non-null   int64  \n",
      " 1   Location                        1949 non-null   object \n",
      " 2   Price                           1949 non-null   object \n",
      " 3   Rooms                           1922 non-null   float64\n",
      " 4   WCs                             1835 non-null   float64\n",
      " 5   Net Floor Area (m2)             1787 non-null   float64\n",
      " 6   Gross Private Area (m2)         1754 non-null   float64\n",
      " 7   Parking                         1108 non-null   float64\n",
      " 8   Floor                           1012 non-null   float64\n",
      " 9   Energy Performance Certificate  1949 non-null   object \n",
      " 10  Elevator_Not available          1949 non-null   bool   \n",
      " 11  Capital                         1949 non-null   bool   \n",
      " 12  Metropolitan Areas              1949 non-null   bool   \n",
      " 13  Large cities                    1949 non-null   bool   \n",
      " 14  Coastal Locations               1949 non-null   bool   \n",
      " 15  Median Age                      1898 non-null   object \n",
      "dtypes: bool(5), float64(6), int64(1), object(4)\n",
      "memory usage: 177.1+ KB\n"
     ]
    }
   ],
   "source": [
    "df_Copy.info()\n"
   ]
  },
  {
   "cell_type": "code",
   "execution_count": 68,
   "metadata": {},
   "outputs": [
    {
     "name": "stdout",
     "output_type": "stream",
     "text": [
      "<class 'pandas.core.frame.DataFrame'>\n",
      "RangeIndex: 1949 entries, 0 to 1948\n",
      "Data columns (total 16 columns):\n",
      " #   Column                          Non-Null Count  Dtype  \n",
      "---  ------                          --------------  -----  \n",
      " 0   Unnamed: 0                      1949 non-null   int64  \n",
      " 1   Location                        1949 non-null   object \n",
      " 2   Price                           1949 non-null   object \n",
      " 3   Rooms                           1922 non-null   float64\n",
      " 4   WCs                             1835 non-null   float64\n",
      " 5   Net Floor Area (m2)             1787 non-null   float64\n",
      " 6   Gross Private Area (m2)         1754 non-null   float64\n",
      " 7   Parking                         1108 non-null   float64\n",
      " 8   Floor                           1012 non-null   float64\n",
      " 9   Energy Performance Certificate  1949 non-null   object \n",
      " 10  Elevator_Not available          1949 non-null   bool   \n",
      " 11  Capital                         1949 non-null   bool   \n",
      " 12  Metropolitan Areas              1949 non-null   bool   \n",
      " 13  Large cities                    1949 non-null   bool   \n",
      " 14  Coastal Locations               1949 non-null   bool   \n",
      " 15  Median Age                      1898 non-null   float64\n",
      "dtypes: bool(5), float64(7), int64(1), object(3)\n",
      "memory usage: 177.1+ KB\n"
     ]
    }
   ],
   "source": [
    "def clean_string(age):\n",
    "    return float(age.replace(',', '.'))\n",
    "\n",
    "#cleaned_string = input_string.replace(',', '') \n",
    "#result = float(cleaned_string) \n",
    "df_Copy['Median Age']=df_Copy['Median Age'].astype(str)\n",
    "df_Copy['Median Age']=df_Copy['Median Age'].apply(clean_string)\n",
    "\n",
    "df_Copy.info()\n"
   ]
  },
  {
   "cell_type": "code",
   "execution_count": 69,
   "metadata": {},
   "outputs": [
    {
     "data": {
      "text/plain": [
       "42.2"
      ]
     },
     "execution_count": 69,
     "metadata": {},
     "output_type": "execute_result"
    }
   ],
   "source": [
    "df_Copy['Median Age'].min()"
   ]
  },
  {
   "cell_type": "code",
   "execution_count": null,
   "metadata": {},
   "outputs": [],
   "source": []
  }
 ],
 "metadata": {
  "kernelspec": {
   "display_name": "Python 3",
   "language": "python",
   "name": "python3"
  },
  "language_info": {
   "codemirror_mode": {
    "name": "ipython",
    "version": 3
   },
   "file_extension": ".py",
   "mimetype": "text/x-python",
   "name": "python",
   "nbconvert_exporter": "python",
   "pygments_lexer": "ipython3",
   "version": "3.11.5"
  },
  "orig_nbformat": 4
 },
 "nbformat": 4,
 "nbformat_minor": 2
}
