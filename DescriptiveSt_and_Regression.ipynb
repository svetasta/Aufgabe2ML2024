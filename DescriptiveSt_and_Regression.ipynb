{
 "cells": [
  {
   "attachments": {},
   "cell_type": "markdown",
   "metadata": {},
   "source": [
    "### Gruppe 3\n",
    " - Svetlana Marchenko Matrikel NR 20236284\n",
    " "
   ]
  },
  {
   "attachments": {},
   "cell_type": "markdown",
   "metadata": {},
   "source": [
    "Der Immobilienmarkt in Portugal ist hochgradig wettbewerbsintensiv und dynamisch, wobei die Preise aufgrund zahlreicher Faktoren erheblich variieren. Eine genaue Vorhersage von Immobilienpreisen kann Käufern, Verkäufern, Immobilienmaklern und Investoren helfen, fundierte Entscheidungen zu treffen. Das Ziel besteht darin, ein Modell zu entwickeln, das den Preis einer Immobilie basierend auf deren spezifischen Eigenschaften vorhersagen kann."
   ]
  },
  {
   "attachments": {},
   "cell_type": "markdown",
   "metadata": {},
   "source": [
    "Ich arbeite mit Daten aus drei Quellen: `Aufgabe2_19052024.ipynb`, `webscrapingTest.ipynb` und `DataPreprocessing.ipynb`. Zusätzlich verwende ich `googleMaps.py` für geografische Informationen. Das Ziel dieses Projekts ist es, ein Modell zur Vorhersage der Wohnungspreise auf dem portugiesischen Immobilienmarkt zu erstellen, basierend auf den spezifischen Merkmalen der Immobilien.\n",
    "\n",
    "Obwohl ich der Meinung bin, dass die Variable `Floor` eine Rolle bei der Bestimmung des Wohnungspreises spielen könnte, wird sie aufgrund unzureichender Datenwerte in dieser Analyse nicht berücksichtigt.\n",
    "\n",
    "Die Daten von Immobilien auf den Inseln der Azoren und Madeira habe ich nach eingehender Überlegung ausgenommen. Der Immobilienmarkt dort ist äußerst spezifisch und orientiert sich eher an Ferienwohnungen, was sich deutlich von dem Markt für Wohnimmobilien unterscheidet."
   ]
  },
  {
   "attachments": {},
   "cell_type": "markdown",
   "metadata": {},
   "source": [
    "Fragestellung: Wie können wir anhand von Merkmalen wie Standort, Größe, Ausstattung und anderen Faktoren den Preis von Immobilien in Portugal modellieren und vorhersagen?"
   ]
  },
  {
   "attachments": {},
   "cell_type": "markdown",
   "metadata": {},
   "source": [
    " Die vorliegenden Daten umfassen Immobilieninformationen wie Standort, Preis, Anzahl der Zimmer, Flächenangaben sowie verschiedene Merkmale wie Parkmöglichkeiten und Aufzugverfügbarkeit."
   ]
  },
  {
   "attachments": {},
   "cell_type": "markdown",
   "metadata": {},
   "source": [
    "\n",
    "In der arbeite Ich mit dem *Wohnungen* Datensatz. Dieser umfasst 1717 Beobachtungen zu den Verkaufspreisen von Wohnungen in Portugal (auser Inseln). Die Daten sind in der Datei `dataconcatPropertyAndAge2905-00.csv` abgelegt.\n",
    "## Variablenbeschreibung\n",
    "\n",
    "1. `Location:` Der Standort der Immobilie. Dies umfasst den Stadtteil und die Stadt bzw. Gemeinde.\n",
    "\n",
    "2. `Price:` Der Verkaufspreis der Immobilie in Euro.\n",
    "\n",
    "3. `Rooms:` Die Anzahl der Zimmer in der Immobilie.\n",
    "\n",
    "4. `WCs:` Die Anzahl der Badezimmer in der Immobilie.\n",
    "\n",
    "5. `Net Floor Area (m2):` Die Netto-Wohnfläche der Immobilie in Quadratmetern. Dies bezieht sich auf die tatsächliche nutzbare Fläche innerhalb der Wände.\n",
    "\n",
    "6. `Gross Private Area (m2):` Die Bruttowohnfläche der Immobilie in Quadratmetern. Dies umfasst die gesamte Fläche inklusive der Wände und anderen gemeinschaftlichen Bereichen.\n",
    "\n",
    "7. `Parking:` Die Anzahl der verfügbaren Parkplätze zur Immobilie.\n",
    "\n",
    "8. `Floor:` Die Etage, auf der sich die Immobilie befindet. Dieser Wert wird aufgrund unzureichender Datenwerte nicht in die Analyse einbezogen.\n",
    "\n",
    "9. `Energy Performance Certificate:` Das Energieleistungszertifikat der Immobilie. Dies gibt die Energieeffizienz der Immobilie an.\n",
    "\n",
    "10. `Elevator_Not available:` Ein Boolean-Wert (True/False), der angibt, ob ein Aufzug in der Immobilie nicht verfügbar ist.\n",
    "\n",
    "11. `Capital:` Ein Boolean-Wert (True/False), der angibt, ob sich die Immobilie in der Hauptstadt Lissabon befindet.\n",
    "\n",
    "12. `Metropolitan Areas:` Ein Boolean-Wert (True/False), der angibt, ob sich die Immobilie in einer Metropolregion befindet.\n",
    "\n",
    "13. `Large cities:` Ein Boolean-Wert (True/False), der angibt, ob sich die Immobilie in einer Großstadt befindet.\n",
    "\n",
    "14. `Coastal Locations:` Ein Boolean-Wert (True/False), der angibt, ob sich die Immobilie in einer Küstenregion befindet.\n",
    "\n",
    "15. `Median Age:` Das mittlere Alter der Bevölkerung in der Region, in der sich die Immobilie befindet.\n",
    "\n",
    "16. `Distance To Ocean: ` Die Entfernung der Immobilie zum Meer in Kilometern.\n"
   ]
  },
  {
   "cell_type": "code",
   "execution_count": 117,
   "metadata": {},
   "outputs": [],
   "source": [
    "# Laden der notwendigen Bibliotheken\n",
    "import pandas as pd\n",
    "from sklearn.preprocessing import LabelEncoder\n",
    "import matplotlib.pyplot as plt\n",
    "import seaborn as sns   # https://seaborn.pydata.org\n",
    "\n",
    "# Make sure the plots are displayed inline (within the notebook)\n",
    "%matplotlib inline\n",
    "import numpy as np\n",
    "import csv\n",
    "\n",
    "FILENAME_DATASET =\"dataconcatPropertyAndAge2905-23-48.csv\""
   ]
  },
  {
   "cell_type": "code",
   "execution_count": 118,
   "metadata": {},
   "outputs": [
    {
     "name": "stdout",
     "output_type": "stream",
     "text": [
      "Der Datensatz hat  Zeilen 1717 und 16 Spalten. Die Dimension des Datensatzes ist korrekt.\n"
     ]
    }
   ],
   "source": [
    "#Datensatz wird kopiert und  kontroliert ob die Dimension des Datensatzes ist korrekt\n",
    "df = pd.read_csv(FILENAME_DATASET,\n",
    "                 sep=';',\n",
    "                 encoding='ISO-8859-1',\n",
    "                 header=0, \n",
    "                 )\n",
    "df_Copy = df\n",
    "nSpalten = df_Copy.shape[1]\n",
    "nZeilen = df_Copy.shape[0]\n",
    "if nSpalten == 16 and nZeilen == 1717:\n",
    "    print(\n",
    "       f\"Der Datensatz hat  Zeilen {nZeilen} und {nSpalten} Spalten. Die Dimension des Datensatzes ist korrekt.\")\n",
    "else:\n",
    "    print(f\"Fehler: Der Datensatz hat nicht die erwartete Dimension  {nZeilen}  und {nSpalten}\"  )\n"
   ]
  },
  {
   "cell_type": "code",
   "execution_count": 119,
   "metadata": {},
   "outputs": [
    {
     "name": "stdout",
     "output_type": "stream",
     "text": [
      "<class 'pandas.core.frame.DataFrame'>\n",
      "RangeIndex: 1717 entries, 0 to 1716\n",
      "Data columns (total 16 columns):\n",
      " #   Column                          Non-Null Count  Dtype  \n",
      "---  ------                          --------------  -----  \n",
      " 0   Location                        1717 non-null   object \n",
      " 1   Price                           1717 non-null   int64  \n",
      " 2   Rooms                           1717 non-null   int64  \n",
      " 3   WCs                             1717 non-null   int64  \n",
      " 4   Net Floor Area (m2)             1602 non-null   float64\n",
      " 5   Gross Private Area (m2)         1575 non-null   float64\n",
      " 6   Parking                         1717 non-null   int64  \n",
      " 7   Floor                           875 non-null    float64\n",
      " 8   Energy Performance Certificate  1717 non-null   object \n",
      " 9   Elevator_Not available          1717 non-null   bool   \n",
      " 10  Capital                         1717 non-null   bool   \n",
      " 11  Metropolitan Areas              1717 non-null   bool   \n",
      " 12  Large cities                    1717 non-null   bool   \n",
      " 13  Coastal Locations               1717 non-null   bool   \n",
      " 14  Median Age                      1717 non-null   float64\n",
      " 15  Distance To Ocean               1716 non-null   float64\n",
      "dtypes: bool(5), float64(5), int64(4), object(2)\n",
      "memory usage: 156.1+ KB\n"
     ]
    }
   ],
   "source": [
    "df_Copy.info()"
   ]
  },
  {
   "attachments": {},
   "cell_type": "markdown",
   "metadata": {},
   "source": [
    "Die Werte der Variablen entsprechen den erwarteten Werten. Das Einlesen der Daten funktioniert anscheinend."
   ]
  },
  {
   "attachments": {},
   "cell_type": "markdown",
   "metadata": {},
   "source": [
    "Die Variablen 'Gross Private Area' und 'Net Floor Area (m2)' sind wichtige Faktoren für den Preis von Wohnungen. Die Brutto-Privatfläche bezieht sich auf die Gesamtfläche der Wohnung, einschließlich aller privaten Bereiche wie Wohnzimmer, Schlafzimmer und Badezimmer. Die Netto-Grundfläche ist die effektive Wohnfläche, die von den Bewohnern genutzt werden kann und schließt möglicherweise gemeinschaftlich genutzte Bereiche wie Flure und Treppenhäuser aus. Beide Variablen spielen eine entscheidende Rolle bei der Bestimmung des Wohnungspreises, wobei größere Flächen in der Regel zu höheren Preisen führen, da sie mehr Raum und Wohnkomfort bieten.\n",
    "Bei mir fehlen einige Values für die Variablen. "
   ]
  },
  {
   "cell_type": "code",
   "execution_count": 120,
   "metadata": {},
   "outputs": [
    {
     "name": "stdout",
     "output_type": "stream",
     "text": [
      "                                               Location   Price  Rooms  WCs  \\\n",
      "21                  Fânzeres e São Pedro da Cova, Porto  220000      2    2   \n",
      "22                  Fânzeres e São Pedro da Cova, Porto  220000      2    2   \n",
      "34    Seixal, Arrentela e Aldeia de Paio Pires, Setúbal  199000      3    1   \n",
      "36    Cedofeita, Santo Ildefonso, Sé, Miragaia, São ...  160000      0    1   \n",
      "45                           Matosinhos Sul, Matosinhos  295000      1    1   \n",
      "...                                                 ...     ...    ...  ...   \n",
      "1648                                Águas Santas, Porto  270000      2    2   \n",
      "1663                                   Cavalinha, Olhão  250000      2    2   \n",
      "1676                                      Beato, Lisboa  269000      3    1   \n",
      "1692                                    Virtudes, Porto  990000      2    3   \n",
      "1709                          Gafanha da Nazaré, Ílhavo   99000      1    1   \n",
      "\n",
      "      Net Floor Area (m2)  Gross Private Area (m2)  Parking  Floor  \\\n",
      "21                    NaN                      NaN        0    NaN   \n",
      "22                    NaN                      NaN        0    NaN   \n",
      "34                    NaN                      NaN        0    NaN   \n",
      "36                    NaN                      NaN        0    NaN   \n",
      "45                   46.0                      NaN        0    NaN   \n",
      "...                   ...                      ...      ...    ...   \n",
      "1648                  NaN                      NaN        0    NaN   \n",
      "1663                 57.0                      NaN        0    NaN   \n",
      "1676                 60.0                      NaN        0    NaN   \n",
      "1692                144.0                      NaN        0    NaN   \n",
      "1709                 46.0                      NaN        0    NaN   \n",
      "\n",
      "     Energy Performance Certificate  Elevator_Not available  Capital  \\\n",
      "21                    Not available                    True    False   \n",
      "22                    Not available                    True    False   \n",
      "34                    Not available                    True    False   \n",
      "36                    Not available                    True    False   \n",
      "45                    Not available                    True    False   \n",
      "...                             ...                     ...      ...   \n",
      "1648                  Not available                    True    False   \n",
      "1663                  Not available                    True    False   \n",
      "1676                  Not available                    True     True   \n",
      "1692                  Not available                    True    False   \n",
      "1709                  Not available                    True    False   \n",
      "\n",
      "      Metropolitan Areas  Large cities  Coastal Locations  Median Age  \\\n",
      "21                  True          True               True        47.0   \n",
      "22                  True          True               True        47.0   \n",
      "34                  True          True              False        44.9   \n",
      "36                  True          True               True        47.0   \n",
      "45                  True         False              False        47.5   \n",
      "...                  ...           ...                ...         ...   \n",
      "1648                True          True               True        47.0   \n",
      "1663               False         False               True        46.2   \n",
      "1676                True          True              False        44.8   \n",
      "1692                True          True               True        47.0   \n",
      "1709               False         False               True        48.6   \n",
      "\n",
      "      Distance To Ocean  \n",
      "21                 13.0  \n",
      "22                 13.0  \n",
      "34                 11.0  \n",
      "36                  5.0  \n",
      "45                  3.0  \n",
      "...                 ...  \n",
      "1648               10.0  \n",
      "1663               62.0  \n",
      "1676               14.0  \n",
      "1692                4.0  \n",
      "1709               41.0  \n",
      "\n",
      "[142 rows x 16 columns]\n"
     ]
    }
   ],
   "source": [
    "#Filtern des DataFrames nach fehlenden Werten in 'Gross Private Area' oder 'Net Floor Area (m2)'\n",
    "missing_values_subset = df_Copy[df_Copy['Gross Private Area (m2)'].isnull() | df_Copy['Net Floor Area (m2)'].isnull()]\n",
    "\n",
    "# Display the filtered DataFrame\n",
    "print(missing_values_subset)"
   ]
  },
  {
   "attachments": {},
   "cell_type": "markdown",
   "metadata": {},
   "source": [
    "#### Imputation \n",
    "\n",
    "Imputation Net Floor Area (m2)\n",
    "\n",
    "Ich werde versuchen Korrelation zwichen 'Net Floor Area (m2)' und 'Rooms' finden und  fehlende Werte in 'Net Floor Area (m2)' zu füllen"
   ]
  },
  {
   "cell_type": "code",
   "execution_count": 121,
   "metadata": {},
   "outputs": [
    {
     "name": "stdout",
     "output_type": "stream",
     "text": [
      "Correlation Coefficient: 0.7542617046310335\n"
     ]
    }
   ],
   "source": [
    "correlation = df_Copy['Net Floor Area (m2)'].corr(df_Copy['Rooms'])\n",
    "print(\"Correlation Coefficient:\", correlation)"
   ]
  },
  {
   "attachments": {},
   "cell_type": "markdown",
   "metadata": {},
   "source": [
    "Da die Wohnungen sind meisten nach typiche Standarten gebaut es macht Sin, dass die 'Net Floor Area (m2)' und 'Rooms' stark korrelieren. Ein Korrelationskoeffizient von 0.7542 zwischen 'Rooms' und 'Net Floor Area (m2)' deutet auf eine starke positive lineare Korrelation zwischen diesen beiden Variablen hin. Dies bedeutet, dass größere Werte für 'Net Floor Area (m2)' tendenziell mit größeren Werten für 'Rooms' einhergehen, und umgekehrt. "
   ]
  },
  {
   "cell_type": "code",
   "execution_count": 122,
   "metadata": {},
   "outputs": [
    {
     "name": "stdout",
     "output_type": "stream",
     "text": [
      "<class 'pandas.core.frame.DataFrame'>\n",
      "RangeIndex: 1717 entries, 0 to 1716\n",
      "Data columns (total 16 columns):\n",
      " #   Column                          Non-Null Count  Dtype  \n",
      "---  ------                          --------------  -----  \n",
      " 0   Location                        1717 non-null   object \n",
      " 1   Price                           1717 non-null   int64  \n",
      " 2   Rooms                           1717 non-null   int64  \n",
      " 3   WCs                             1717 non-null   int64  \n",
      " 4   Net Floor Area (m2)             1717 non-null   float64\n",
      " 5   Gross Private Area (m2)         1575 non-null   float64\n",
      " 6   Parking                         1717 non-null   int64  \n",
      " 7   Floor                           875 non-null    float64\n",
      " 8   Energy Performance Certificate  1717 non-null   object \n",
      " 9   Elevator_Not available          1717 non-null   bool   \n",
      " 10  Capital                         1717 non-null   bool   \n",
      " 11  Metropolitan Areas              1717 non-null   bool   \n",
      " 12  Large cities                    1717 non-null   bool   \n",
      " 13  Coastal Locations               1717 non-null   bool   \n",
      " 14  Median Age                      1717 non-null   float64\n",
      " 15  Distance To Ocean               1716 non-null   float64\n",
      "dtypes: bool(5), float64(5), int64(4), object(2)\n",
      "memory usage: 156.1+ KB\n"
     ]
    }
   ],
   "source": [
    "# Fehlende Werte in 'Net Floor Area (m2)' auffüllen\n",
    "mean_net_area = df_Copy.groupby('Rooms')['Net Floor Area (m2)'].transform('mean')\n",
    "#df_Copy['Net Floor Area (m2)'].fillna(mean_net_area, inplace=True)\n",
    "df_Copy['Net Floor Area (m2)'] = df_Copy['Net Floor Area (m2)'].fillna(mean_net_area)\n",
    "df_Copy.info()"
   ]
  },
  {
   "attachments": {},
   "cell_type": "markdown",
   "metadata": {},
   "source": [
    "Imputation Gross Private Area (m2)"
   ]
  },
  {
   "attachments": {},
   "cell_type": "markdown",
   "metadata": {},
   "source": [
    "Ich werde versuchen Korrelation zwichen 'Gross Private Area (m2)' und 'Net Floor Area (m2)' finden und  fehlende Werte in 'Gross Private Area (m2)' zu füllen"
   ]
  },
  {
   "cell_type": "code",
   "execution_count": 123,
   "metadata": {},
   "outputs": [
    {
     "name": "stdout",
     "output_type": "stream",
     "text": [
      "Correlation Coefficient: 0.8147315960440462\n"
     ]
    }
   ],
   "source": [
    "correlation = df_Copy['Net Floor Area (m2)'].corr(df_Copy['Gross Private Area (m2)'])\n",
    "print(\"Correlation Coefficient:\", correlation)\n"
   ]
  },
  {
   "attachments": {},
   "cell_type": "markdown",
   "metadata": {},
   "source": [
    "Ein Korrelationskoeffizient von 0.8174 zwischen 'Gross Private Area (m2)' und 'Net Floor Area (m2)' deutet auf eine starke positive lineare Korrelation zwischen diesen beiden Variablen hin. Dies bedeutet, dass größere Werte für 'Net Floor Area (m2)' tendenziell mit größeren Werten für 'Gross Private Area (m2)' einhergehen, und umgekehrt. In Wohnungen mit einer größeren Nutzfläche ist es also wahrscheinlicher, dass auch die Gesamtfläche größer ist, und umgekehrt."
   ]
  },
  {
   "attachments": {},
   "cell_type": "markdown",
   "metadata": {},
   "source": [
    "Ich entscheide mich für die Berechnung des Mittelwerts, da die Berechnung stellt sicher, dass die ergänzten Werte repräsentativ für die Verteilung der \"Brutto-Privatfläche (m2)\" innerhalb jeder Gruppe sind, die durch die \"Netto-Grundfläche (m2)\" definiert wird. Dies trägt dazu bei, die Gesamtverteilung der Daten zu erhalten.Insgesamt ist die Verwendung des Mittelwerts zur Auffüllung fehlender Werte eine gängige Methode, die einen Ausgleich zwischen der Beibehaltung der Datenverteilung und der Einfachheit der Implementierung darstellt. "
   ]
  },
  {
   "cell_type": "code",
   "execution_count": 124,
   "metadata": {},
   "outputs": [
    {
     "name": "stdout",
     "output_type": "stream",
     "text": [
      "0       144.533333\n",
      "1        77.384615\n",
      "2       164.000000\n",
      "3        97.333333\n",
      "4        91.470588\n",
      "           ...    \n",
      "1712     66.777778\n",
      "1713    104.133333\n",
      "1714    109.142857\n",
      "1715     87.714286\n",
      "1716     80.950000\n",
      "Name: Gross Private Area (m2), Length: 1717, dtype: float64\n"
     ]
    }
   ],
   "source": [
    "\n",
    "# Fehlende Werte in 'Gross Private Area (m2)' auffüllen\n",
    "mean_gross_private_area = df_Copy.groupby('Net Floor Area (m2)')['Gross Private Area (m2)'].transform('mean')\n",
    "print(mean_gross_private_area)\n",
    "#df_Copy['Gross Private Area (m2)'].fillna(mean_gross_private_area, inplace=True)\n",
    "df_Copy['Gross Private Area (m2)'] = df_Copy['Gross Private Area (m2)'].fillna(mean_gross_private_area)\n"
   ]
  },
  {
   "cell_type": "code",
   "execution_count": 125,
   "metadata": {},
   "outputs": [
    {
     "name": "stdout",
     "output_type": "stream",
     "text": [
      "<class 'pandas.core.frame.DataFrame'>\n",
      "RangeIndex: 1717 entries, 0 to 1716\n",
      "Data columns (total 16 columns):\n",
      " #   Column                          Non-Null Count  Dtype  \n",
      "---  ------                          --------------  -----  \n",
      " 0   Location                        1717 non-null   object \n",
      " 1   Price                           1717 non-null   int64  \n",
      " 2   Rooms                           1717 non-null   int64  \n",
      " 3   WCs                             1717 non-null   int64  \n",
      " 4   Net Floor Area (m2)             1717 non-null   float64\n",
      " 5   Gross Private Area (m2)         1602 non-null   float64\n",
      " 6   Parking                         1717 non-null   int64  \n",
      " 7   Floor                           875 non-null    float64\n",
      " 8   Energy Performance Certificate  1717 non-null   object \n",
      " 9   Elevator_Not available          1717 non-null   bool   \n",
      " 10  Capital                         1717 non-null   bool   \n",
      " 11  Metropolitan Areas              1717 non-null   bool   \n",
      " 12  Large cities                    1717 non-null   bool   \n",
      " 13  Coastal Locations               1717 non-null   bool   \n",
      " 14  Median Age                      1717 non-null   float64\n",
      " 15  Distance To Ocean               1716 non-null   float64\n",
      "dtypes: bool(5), float64(5), int64(4), object(2)\n",
      "memory usage: 156.1+ KB\n"
     ]
    }
   ],
   "source": [
    "df_Copy.info()"
   ]
  },
  {
   "cell_type": "code",
   "execution_count": 126,
   "metadata": {},
   "outputs": [
    {
     "name": "stdout",
     "output_type": "stream",
     "text": [
      "                                               Location   Price  Rooms  WCs  \\\n",
      "21                  Fânzeres e São Pedro da Cova, Porto  220000      2    2   \n",
      "22                  Fânzeres e São Pedro da Cova, Porto  220000      2    2   \n",
      "34    Seixal, Arrentela e Aldeia de Paio Pires, Setúbal  199000      3    1   \n",
      "36    Cedofeita, Santo Ildefonso, Sé, Miragaia, São ...  160000      0    1   \n",
      "61                                    Corroios, Setúbal  198500      2    1   \n",
      "...                                                 ...     ...    ...  ...   \n",
      "1551                             Alta de Lisboa, Lisboa  420000      1    1   \n",
      "1556                                    Boavista, Porto  280000      1    1   \n",
      "1579                            Penha de França, Lisboa  179000      2    1   \n",
      "1637                                Águas Santas, Porto  279000      2    2   \n",
      "1648                                Águas Santas, Porto  270000      2    2   \n",
      "\n",
      "      Net Floor Area (m2)  Gross Private Area (m2)  Parking  Floor  \\\n",
      "21              84.191736                      NaN        0    NaN   \n",
      "22              84.191736                      NaN        0    NaN   \n",
      "34             112.237347                      NaN        0    NaN   \n",
      "36              37.404255                      NaN        0    NaN   \n",
      "61              84.191736                      NaN        0    NaN   \n",
      "...                   ...                      ...      ...    ...   \n",
      "1551            54.710526                      NaN        0    NaN   \n",
      "1556            54.710526                      NaN        0    NaN   \n",
      "1579            84.191736                      NaN        0    NaN   \n",
      "1637            84.191736                      NaN        0    NaN   \n",
      "1648            84.191736                      NaN        0    NaN   \n",
      "\n",
      "     Energy Performance Certificate  Elevator_Not available  Capital  \\\n",
      "21                    Not available                    True    False   \n",
      "22                    Not available                    True    False   \n",
      "34                    Not available                    True    False   \n",
      "36                    Not available                    True    False   \n",
      "61                    Not available                    True    False   \n",
      "...                             ...                     ...      ...   \n",
      "1551                  Not available                    True     True   \n",
      "1556                  Not available                    True    False   \n",
      "1579                  Not available                    True     True   \n",
      "1637                  Not available                    True    False   \n",
      "1648                  Not available                    True    False   \n",
      "\n",
      "      Metropolitan Areas  Large cities  Coastal Locations  Median Age  \\\n",
      "21                  True          True               True        47.0   \n",
      "22                  True          True               True        47.0   \n",
      "34                  True          True              False        44.9   \n",
      "36                  True          True               True        47.0   \n",
      "61                  True          True              False        46.6   \n",
      "...                  ...           ...                ...         ...   \n",
      "1551                True          True              False        44.8   \n",
      "1556                True          True               True        47.0   \n",
      "1579                True          True              False        44.8   \n",
      "1637                True          True               True        47.0   \n",
      "1648                True          True               True        47.0   \n",
      "\n",
      "      Distance To Ocean  \n",
      "21                 13.0  \n",
      "22                 13.0  \n",
      "34                 11.0  \n",
      "36                  5.0  \n",
      "61                  7.0  \n",
      "...                 ...  \n",
      "1551               11.0  \n",
      "1556                4.0  \n",
      "1579               12.0  \n",
      "1637               10.0  \n",
      "1648               10.0  \n",
      "\n",
      "[115 rows x 16 columns]\n"
     ]
    }
   ],
   "source": [
    "#Filtern des DataFrames nach fehlenden Werten in 'Gross Private Area' oder 'Net Floor Area (m2)'\n",
    "missing_values_subset = df_Copy[df_Copy['Gross Private Area (m2)'].isnull() | df_Copy['Net Floor Area (m2)'].isnull()]\n",
    "\n",
    "# Display the filtered DataFrame\n",
    "print(missing_values_subset)"
   ]
  },
  {
   "attachments": {},
   "cell_type": "markdown",
   "metadata": {},
   "source": [
    "Löschen der Datensätze, bei denen die Variable \"Distance To Ocean\" größer als 300 ist,da die Entfernung zum Ozean in kontinentalen Portugal nicht größer als 300 sein kann. Auserdemm die Variable wird bereinigt "
   ]
  },
  {
   "cell_type": "code",
   "execution_count": 127,
   "metadata": {},
   "outputs": [
    {
     "name": "stderr",
     "output_type": "stream",
     "text": [
      "C:\\Users\\sve75036\\AppData\\Local\\Temp\\ipykernel_20728\\2440610686.py:3: SettingWithCopyWarning: \n",
      "A value is trying to be set on a copy of a slice from a DataFrame.\n",
      "Try using .loc[row_indexer,col_indexer] = value instead\n",
      "\n",
      "See the caveats in the documentation: https://pandas.pydata.org/pandas-docs/stable/user_guide/indexing.html#returning-a-view-versus-a-copy\n",
      "  df_Copy['Distance To Ocean'] = pd.to_numeric(df_Copy['Distance To Ocean'], errors='coerce')\n",
      "C:\\Users\\sve75036\\AppData\\Local\\Temp\\ipykernel_20728\\2440610686.py:4: SettingWithCopyWarning: \n",
      "A value is trying to be set on a copy of a slice from a DataFrame\n",
      "\n",
      "See the caveats in the documentation: https://pandas.pydata.org/pandas-docs/stable/user_guide/indexing.html#returning-a-view-versus-a-copy\n",
      "  df_Copy.dropna(subset=['Distance To Ocean'], how='all', inplace=True)\n"
     ]
    }
   ],
   "source": [
    "# Löschen der Datensätze, bei denen die Variable \"Distance to Ocean\" größer als 300 ist\n",
    "df_Copy = df_Copy[df_Copy['Distance To Ocean'] <= 300]\n",
    "df_Copy['Distance To Ocean'] = pd.to_numeric(df_Copy['Distance To Ocean'], errors='coerce')\n",
    "df_Copy.dropna(subset=['Distance To Ocean'], how='all', inplace=True)\n",
    "\n",
    "\n"
   ]
  },
  {
   "attachments": {},
   "cell_type": "markdown",
   "metadata": {},
   "source": [
    "### Deskriptive Statistik"
   ]
  },
  {
   "attachments": {},
   "cell_type": "markdown",
   "metadata": {},
   "source": [
    "Funktion wird verwendet, um aggregierte Statistiken über Spalten mit numerischen Values eines DataFrame zu berechnen. "
   ]
  },
  {
   "cell_type": "code",
   "execution_count": 129,
   "metadata": {},
   "outputs": [
    {
     "data": {
      "text/html": [
       "<div>\n",
       "<style scoped>\n",
       "    .dataframe tbody tr th:only-of-type {\n",
       "        vertical-align: middle;\n",
       "    }\n",
       "\n",
       "    .dataframe tbody tr th {\n",
       "        vertical-align: top;\n",
       "    }\n",
       "\n",
       "    .dataframe thead th {\n",
       "        text-align: right;\n",
       "    }\n",
       "</style>\n",
       "<table border=\"1\" class=\"dataframe\">\n",
       "  <thead>\n",
       "    <tr style=\"text-align: right;\">\n",
       "      <th></th>\n",
       "      <th>Price</th>\n",
       "      <th>Distance To Ocean</th>\n",
       "      <th>Parking</th>\n",
       "      <th>Floor</th>\n",
       "      <th>Rooms</th>\n",
       "      <th>WCs</th>\n",
       "      <th>Net Floor Area (m2)</th>\n",
       "      <th>Gross Private Area (m2)</th>\n",
       "      <th>Median Age</th>\n",
       "    </tr>\n",
       "  </thead>\n",
       "  <tbody>\n",
       "    <tr>\n",
       "      <th>count</th>\n",
       "      <td>1691.00</td>\n",
       "      <td>1691.00</td>\n",
       "      <td>1691.00</td>\n",
       "      <td>861.00</td>\n",
       "      <td>1691.00</td>\n",
       "      <td>1691.00</td>\n",
       "      <td>1691.00</td>\n",
       "      <td>1576.00</td>\n",
       "      <td>1691.00</td>\n",
       "    </tr>\n",
       "    <tr>\n",
       "      <th>mean</th>\n",
       "      <td>274732.95</td>\n",
       "      <td>25.58</td>\n",
       "      <td>0.68</td>\n",
       "      <td>2.17</td>\n",
       "      <td>2.28</td>\n",
       "      <td>1.68</td>\n",
       "      <td>92.01</td>\n",
       "      <td>108.35</td>\n",
       "      <td>46.48</td>\n",
       "    </tr>\n",
       "    <tr>\n",
       "      <th>median</th>\n",
       "      <td>240000.00</td>\n",
       "      <td>13.00</td>\n",
       "      <td>1.00</td>\n",
       "      <td>2.00</td>\n",
       "      <td>2.00</td>\n",
       "      <td>2.00</td>\n",
       "      <td>89.00</td>\n",
       "      <td>100.00</td>\n",
       "      <td>46.60</td>\n",
       "    </tr>\n",
       "    <tr>\n",
       "      <th>std</th>\n",
       "      <td>144744.02</td>\n",
       "      <td>27.99</td>\n",
       "      <td>0.77</td>\n",
       "      <td>1.86</td>\n",
       "      <td>0.94</td>\n",
       "      <td>0.70</td>\n",
       "      <td>33.80</td>\n",
       "      <td>49.08</td>\n",
       "      <td>1.86</td>\n",
       "    </tr>\n",
       "    <tr>\n",
       "      <th>min</th>\n",
       "      <td>10800.00</td>\n",
       "      <td>0.00</td>\n",
       "      <td>0.00</td>\n",
       "      <td>-1.00</td>\n",
       "      <td>0.00</td>\n",
       "      <td>1.00</td>\n",
       "      <td>25.00</td>\n",
       "      <td>9.00</td>\n",
       "      <td>42.60</td>\n",
       "    </tr>\n",
       "    <tr>\n",
       "      <th>max</th>\n",
       "      <td>990000.00</td>\n",
       "      <td>171.00</td>\n",
       "      <td>6.00</td>\n",
       "      <td>12.00</td>\n",
       "      <td>6.00</td>\n",
       "      <td>5.00</td>\n",
       "      <td>256.00</td>\n",
       "      <td>727.00</td>\n",
       "      <td>59.80</td>\n",
       "    </tr>\n",
       "  </tbody>\n",
       "</table>\n",
       "</div>"
      ],
      "text/plain": [
       "            Price  Distance To Ocean  Parking   Floor    Rooms      WCs  \\\n",
       "count     1691.00            1691.00  1691.00  861.00  1691.00  1691.00   \n",
       "mean    274732.95              25.58     0.68    2.17     2.28     1.68   \n",
       "median  240000.00              13.00     1.00    2.00     2.00     2.00   \n",
       "std     144744.02              27.99     0.77    1.86     0.94     0.70   \n",
       "min      10800.00               0.00     0.00   -1.00     0.00     1.00   \n",
       "max     990000.00             171.00     6.00   12.00     6.00     5.00   \n",
       "\n",
       "        Net Floor Area (m2)  Gross Private Area (m2)  Median Age  \n",
       "count               1691.00                  1576.00     1691.00  \n",
       "mean                  92.01                   108.35       46.48  \n",
       "median                89.00                   100.00       46.60  \n",
       "std                   33.80                    49.08        1.86  \n",
       "min                   25.00                     9.00       42.60  \n",
       "max                  256.00                   727.00       59.80  "
      ]
     },
     "execution_count": 129,
     "metadata": {},
     "output_type": "execute_result"
    }
   ],
   "source": [
    "# Aggregation von price und stories\n",
    "df_Copy.agg(\n",
    "    {\n",
    "        \"Price\": [\"count\", \"mean\", \"median\", \"std\", \"min\", \"max\"],\n",
    "        \"Distance To Ocean\": [\"count\", \"median\", \"mean\", \"std\", \"min\", \"max\"],\n",
    "        \"Parking\": [\"count\", \"mean\", \"median\", \"std\", \"min\", \"max\"],\n",
    "        \"Floor\": [\"count\", \"mean\", \"median\", \"std\", \"min\", \"max\"],\n",
    "        \"Rooms\": [\"count\", \"mean\", \"median\", \"std\", \"min\", \"max\"],\n",
    "        \"WCs\": [\"count\", \"mean\", \"median\", \"std\", \"min\", \"max\"],\n",
    "        \"Net Floor Area (m2)\": [\"count\", \"mean\", \"median\", \"std\", \"min\", \"max\"],\n",
    "        \"Gross Private Area (m2)\": [\"count\", \"mean\", \"median\", \"std\", \"min\", \"max\"],\n",
    "        \"Median Age\": [\"count\", \"mean\", \"median\", \"std\", \"min\", \"max\"],\n",
    "    }\n",
    ").round(2)"
   ]
  },
  {
   "attachments": {},
   "cell_type": "markdown",
   "metadata": {},
   "source": [
    "1) Schon nach der ersten Aggregation lässt sich erkennen, dass die meisten Immobilien sich nicht weit entfernt von der Küste befinden. Obwohl es einige Immobilienmärkte gibt, die sich weiter entfernt von der Küste befinden (maximal 171 km von der Küste entfernt), sind die meisten Städte eher in Küstennähe angesiedelt.\n",
    "\n",
    "2) Obwohl es gibt die Wohnungen ohne Parking - mindestens Hälfte der Wohnungen 1 oder noch mehere Parkings besitzen\n",
    "\n",
    "3) Die Höheste Etage im Angebot ist 12, was kann bedeuten, dass es kaum oder ganz wenig Gebäuden in Portugal gibt, die höhe als 12 Etagen sind\n",
    "\n",
    "4) Obwohl die kleinste Wohnung im Angebot eine Fläche von 25 Quadratmetern hat, sind die Wohnungen tendenziell groß genug. "
   ]
  },
  {
   "attachments": {},
   "cell_type": "markdown",
   "metadata": {},
   "source": [
    "quantile(0.1) berechnet das 10. Perzentil der Werte in der \"Price\"-Spalte. Das bedeutet, dass 10% der Preise in df_Copy niedriger oder gleich dem Wert von Price_q10 sind.\n",
    "quantile(0.9) berechnet das 90. Perzentil der Werte in der \"Price\"-Spalte. Das bedeutet, dass 90% der Preise in df_Copy niedriger oder gleich dem Wert von Price_q90 sind."
   ]
  },
  {
   "cell_type": "code",
   "execution_count": 130,
   "metadata": {},
   "outputs": [
    {
     "data": {
      "text/html": [
       "<div>\n",
       "<style scoped>\n",
       "    .dataframe tbody tr th:only-of-type {\n",
       "        vertical-align: middle;\n",
       "    }\n",
       "\n",
       "    .dataframe tbody tr th {\n",
       "        vertical-align: top;\n",
       "    }\n",
       "\n",
       "    .dataframe thead th {\n",
       "        text-align: right;\n",
       "    }\n",
       "</style>\n",
       "<table border=\"1\" class=\"dataframe\">\n",
       "  <thead>\n",
       "    <tr style=\"text-align: right;\">\n",
       "      <th></th>\n",
       "      <th>Price</th>\n",
       "    </tr>\n",
       "  </thead>\n",
       "  <tbody>\n",
       "    <tr>\n",
       "      <th>q10</th>\n",
       "      <td>145500.0</td>\n",
       "    </tr>\n",
       "    <tr>\n",
       "      <th>q90</th>\n",
       "      <td>455000.0</td>\n",
       "    </tr>\n",
       "  </tbody>\n",
       "</table>\n",
       "</div>"
      ],
      "text/plain": [
       "        Price\n",
       "q10  145500.0\n",
       "q90  455000.0"
      ]
     },
     "execution_count": 130,
     "metadata": {},
     "output_type": "execute_result"
    }
   ],
   "source": [
    "Price_q10 = df_Copy.Price.quantile(0.1)\n",
    "Price_q90 = df_Copy.Price.quantile(0.9)\n",
    "\n",
    "# Create a dataframe with the statistics\n",
    "statistics_Price = pd.DataFrame(data={\"Price\": [Price_q10, Price_q90]},\n",
    "                                 index=[\"q10\", \"q90\"]).round(2)\n",
    "statistics_Price.head()"
   ]
  },
  {
   "attachments": {},
   "cell_type": "markdown",
   "metadata": {},
   "source": [
    "\n",
    "#### Hypothese mit einer Gruppierungsvariable\n",
    "\n",
    "1) Der mittlere Wohnungspreis ist höher für die Wohnungen in Hauptstadt Gegenden als  in nicht Hauptstadt Gegenden.\n",
    "\n",
    "2) Der Wohnungspreis senkt mit der Entfernung von Ozean."
   ]
  },
  {
   "cell_type": "code",
   "execution_count": 131,
   "metadata": {},
   "outputs": [
    {
     "data": {
      "text/html": [
       "<div>\n",
       "<style scoped>\n",
       "    .dataframe tbody tr th:only-of-type {\n",
       "        vertical-align: middle;\n",
       "    }\n",
       "\n",
       "    .dataframe tbody tr th {\n",
       "        vertical-align: top;\n",
       "    }\n",
       "\n",
       "    .dataframe thead th {\n",
       "        text-align: right;\n",
       "    }\n",
       "</style>\n",
       "<table border=\"1\" class=\"dataframe\">\n",
       "  <thead>\n",
       "    <tr style=\"text-align: right;\">\n",
       "      <th></th>\n",
       "      <th>mean</th>\n",
       "      <th>median</th>\n",
       "      <th>std</th>\n",
       "    </tr>\n",
       "    <tr>\n",
       "      <th>Capital</th>\n",
       "      <th></th>\n",
       "      <th></th>\n",
       "      <th></th>\n",
       "    </tr>\n",
       "  </thead>\n",
       "  <tbody>\n",
       "    <tr>\n",
       "      <th>False</th>\n",
       "      <td>254127.51</td>\n",
       "      <td>225000.0</td>\n",
       "      <td>122006.16</td>\n",
       "    </tr>\n",
       "    <tr>\n",
       "      <th>True</th>\n",
       "      <td>388405.74</td>\n",
       "      <td>349250.0</td>\n",
       "      <td>198672.32</td>\n",
       "    </tr>\n",
       "  </tbody>\n",
       "</table>\n",
       "</div>"
      ],
      "text/plain": [
       "              mean    median        std\n",
       "Capital                                \n",
       "False    254127.51  225000.0  122006.16\n",
       "True     388405.74  349250.0  198672.32"
      ]
     },
     "execution_count": 131,
     "metadata": {},
     "output_type": "execute_result"
    }
   ],
   "source": [
    "# Prüfe Hypothese 1: \"Die Wohnungen in der Haupstadt sind teure\"\n",
    "df.groupby(\"Capital\")[\"Price\"].agg([\"mean\", \"median\", \"std\"]).round(2)"
   ]
  },
  {
   "attachments": {},
   "cell_type": "markdown",
   "metadata": {},
   "source": [
    "Die Analyse der durchschnittlichen Preise von Wohnungen in Hauptstädten im Vergleich zu anderen Gebieten zeigt, dass Wohnungen in Hauptstädten tendenziell teurer sind. Im Durchschnitt liegt der Preis für Wohnungen in Hauptstädten bei 388,405.74 Einheiten, während er außerhalb der Hauptstädte bei 254,127.51 Einheiten liegt. Ebenso ist die Streuung der Preise innerhalb der Hauptstädte mit einem Standardabweichungswert von 198,672.32 höher im Vergleich zu Gebieten außerhalb der Hauptstädte (Standardabweichung: 122,006.16)"
   ]
  },
  {
   "cell_type": "code",
   "execution_count": 132,
   "metadata": {},
   "outputs": [
    {
     "data": {
      "image/png": "[encoded data removed]",
      "text/plain": [
       "<Figure size 800x600 with 1 Axes>"
      ]
     },
     "metadata": {},
     "output_type": "display_data"
    }
   ],
   "source": [
    "# Prüfe Hypothese 2: \"Der Wohnungspreis senkt mit der Entfernung von Ozean.\"\n",
    "\n",
    "# Streudiagramm erstellen\n",
    "plt.figure(figsize=(8, 6))\n",
    "plt.scatter(df_Copy['Distance To Ocean'], df_Copy['Price'], alpha=0.5)\n",
    "plt.title('Wohnungspreis in Abhängigkeit von der Entfernung zum Ozean')\n",
    "plt.xlabel('Entfernung zum Ozean (km)')\n",
    "plt.ylabel('Wohnungspreis')\n",
    "plt.grid(True)\n",
    "plt.show()\n"
   ]
  },
  {
   "attachments": {},
   "cell_type": "markdown",
   "metadata": {},
   "source": []
  },
  {
   "cell_type": "code",
   "execution_count": 136,
   "metadata": {},
   "outputs": [
    {
     "name": "stderr",
     "output_type": "stream",
     "text": [
      "C:\\Users\\sve75036\\AppData\\Local\\Temp\\ipykernel_20728\\373185240.py:6: SettingWithCopyWarning: \n",
      "A value is trying to be set on a copy of a slice from a DataFrame.\n",
      "Try using .loc[row_indexer,col_indexer] = value instead\n",
      "\n",
      "See the caveats in the documentation: https://pandas.pydata.org/pandas-docs/stable/user_guide/indexing.html#returning-a-view-versus-a-copy\n",
      "  df_Copy['Distance_Group'] = pd.cut(df['Distance To Ocean'], bins=bins, labels=labels, right=False)\n"
     ]
    },
    {
     "data": {
      "text/html": [
       "<div>\n",
       "<style scoped>\n",
       "    .dataframe tbody tr th:only-of-type {\n",
       "        vertical-align: middle;\n",
       "    }\n",
       "\n",
       "    .dataframe tbody tr th {\n",
       "        vertical-align: top;\n",
       "    }\n",
       "\n",
       "    .dataframe thead th {\n",
       "        text-align: right;\n",
       "    }\n",
       "</style>\n",
       "<table border=\"1\" class=\"dataframe\">\n",
       "  <thead>\n",
       "    <tr style=\"text-align: right;\">\n",
       "      <th></th>\n",
       "      <th>Location</th>\n",
       "      <th>Price</th>\n",
       "      <th>Rooms</th>\n",
       "      <th>WCs</th>\n",
       "      <th>Net Floor Area (m2)</th>\n",
       "      <th>Gross Private Area (m2)</th>\n",
       "      <th>Parking</th>\n",
       "      <th>Floor</th>\n",
       "      <th>Energy Performance Certificate</th>\n",
       "      <th>Elevator_Not available</th>\n",
       "      <th>Capital</th>\n",
       "      <th>Metropolitan Areas</th>\n",
       "      <th>Large cities</th>\n",
       "      <th>Coastal Locations</th>\n",
       "      <th>Median Age</th>\n",
       "      <th>Distance To Ocean</th>\n",
       "      <th>Distance_Group</th>\n",
       "    </tr>\n",
       "  </thead>\n",
       "  <tbody>\n",
       "    <tr>\n",
       "      <th>0</th>\n",
       "      <td>Rio Tinto - Medancelhe, Gondomar</td>\n",
       "      <td>220000</td>\n",
       "      <td>4</td>\n",
       "      <td>2</td>\n",
       "      <td>126.0</td>\n",
       "      <td>161.0</td>\n",
       "      <td>1</td>\n",
       "      <td>0.0</td>\n",
       "      <td>Not available</td>\n",
       "      <td>True</td>\n",
       "      <td>False</td>\n",
       "      <td>True</td>\n",
       "      <td>False</td>\n",
       "      <td>False</td>\n",
       "      <td>47.1</td>\n",
       "      <td>9.0</td>\n",
       "      <td>reach by bike</td>\n",
       "    </tr>\n",
       "    <tr>\n",
       "      <th>1</th>\n",
       "      <td>Arroios, Lisboa</td>\n",
       "      <td>365000</td>\n",
       "      <td>2</td>\n",
       "      <td>1</td>\n",
       "      <td>67.0</td>\n",
       "      <td>67.0</td>\n",
       "      <td>0</td>\n",
       "      <td>NaN</td>\n",
       "      <td>Not available</td>\n",
       "      <td>True</td>\n",
       "      <td>True</td>\n",
       "      <td>True</td>\n",
       "      <td>True</td>\n",
       "      <td>False</td>\n",
       "      <td>44.8</td>\n",
       "      <td>12.0</td>\n",
       "      <td>car needed</td>\n",
       "    </tr>\n",
       "    <tr>\n",
       "      <th>2</th>\n",
       "      <td>Fafe, Braga</td>\n",
       "      <td>220000</td>\n",
       "      <td>4</td>\n",
       "      <td>3</td>\n",
       "      <td>180.0</td>\n",
       "      <td>164.0</td>\n",
       "      <td>0</td>\n",
       "      <td>NaN</td>\n",
       "      <td>Not available</td>\n",
       "      <td>True</td>\n",
       "      <td>False</td>\n",
       "      <td>False</td>\n",
       "      <td>True</td>\n",
       "      <td>False</td>\n",
       "      <td>44.4</td>\n",
       "      <td>50.0</td>\n",
       "      <td>car needed</td>\n",
       "    </tr>\n",
       "    <tr>\n",
       "      <th>3</th>\n",
       "      <td>Bonfim, Porto</td>\n",
       "      <td>230000</td>\n",
       "      <td>3</td>\n",
       "      <td>2</td>\n",
       "      <td>87.0</td>\n",
       "      <td>87.0</td>\n",
       "      <td>0</td>\n",
       "      <td>NaN</td>\n",
       "      <td>Not available</td>\n",
       "      <td>True</td>\n",
       "      <td>False</td>\n",
       "      <td>True</td>\n",
       "      <td>True</td>\n",
       "      <td>True</td>\n",
       "      <td>47.0</td>\n",
       "      <td>6.0</td>\n",
       "      <td>reach by bike</td>\n",
       "    </tr>\n",
       "    <tr>\n",
       "      <th>4</th>\n",
       "      <td>Benfica, Lisboa</td>\n",
       "      <td>460000</td>\n",
       "      <td>3</td>\n",
       "      <td>2</td>\n",
       "      <td>81.0</td>\n",
       "      <td>104.0</td>\n",
       "      <td>1</td>\n",
       "      <td>9.0</td>\n",
       "      <td>Energy Performance Certificate</td>\n",
       "      <td>False</td>\n",
       "      <td>True</td>\n",
       "      <td>True</td>\n",
       "      <td>True</td>\n",
       "      <td>False</td>\n",
       "      <td>44.8</td>\n",
       "      <td>9.0</td>\n",
       "      <td>reach by bike</td>\n",
       "    </tr>\n",
       "  </tbody>\n",
       "</table>\n",
       "</div>"
      ],
      "text/plain": [
       "                           Location   Price  Rooms  WCs  Net Floor Area (m2)  \\\n",
       "0  Rio Tinto - Medancelhe, Gondomar  220000      4    2                126.0   \n",
       "1                   Arroios, Lisboa  365000      2    1                 67.0   \n",
       "2                       Fafe, Braga  220000      4    3                180.0   \n",
       "3                     Bonfim, Porto  230000      3    2                 87.0   \n",
       "4                   Benfica, Lisboa  460000      3    2                 81.0   \n",
       "\n",
       "   Gross Private Area (m2)  Parking  Floor  Energy Performance Certificate  \\\n",
       "0                    161.0        1    0.0                   Not available   \n",
       "1                     67.0        0    NaN                   Not available   \n",
       "2                    164.0        0    NaN                   Not available   \n",
       "3                     87.0        0    NaN                   Not available   \n",
       "4                    104.0        1    9.0  Energy Performance Certificate   \n",
       "\n",
       "   Elevator_Not available  Capital  Metropolitan Areas  Large cities  \\\n",
       "0                    True    False                True         False   \n",
       "1                    True     True                True          True   \n",
       "2                    True    False               False          True   \n",
       "3                    True    False                True          True   \n",
       "4                   False     True                True          True   \n",
       "\n",
       "   Coastal Locations  Median Age  Distance To Ocean Distance_Group  \n",
       "0              False        47.1                9.0  reach by bike  \n",
       "1              False        44.8               12.0     car needed  \n",
       "2              False        44.4               50.0     car needed  \n",
       "3               True        47.0                6.0  reach by bike  \n",
       "4              False        44.8                9.0  reach by bike  "
      ]
     },
     "execution_count": 136,
     "metadata": {},
     "output_type": "execute_result"
    }
   ],
   "source": [
    "# Definiere die Altersgruppen\n",
    "bins = [ 0, 3, 5, 10,float('inf')]\n",
    "labels = ['coastal', 'easy reach coast', 'reach by bike','car needed']\n",
    "\n",
    "# Füge eine neue Spalte mit den Altersgruppen hinzu\n",
    "df_Copy['Distance_Group'] = pd.cut(df['Distance To Ocean'], bins=bins, labels=labels, right=False)\n",
    "\n",
    "# Zeige den DataFrame mit der neuen Spalte an\n",
    "df_Copy.head()"
   ]
  },
  {
   "cell_type": "code",
   "execution_count": 140,
   "metadata": {},
   "outputs": [
    {
     "data": {
      "text/plain": [
       "<Axes: xlabel='distance from the ocean', ylabel='number of appartments'>"
      ]
     },
     "execution_count": 140,
     "metadata": {},
     "output_type": "execute_result"
    },
    {
     "data": {
      "image/png": "[encoded data removed]",
      "text/plain": [
       "<Figure size 1200x400 with 1 Axes>"
      ]
     },
     "metadata": {},
     "output_type": "display_data"
    }
   ],
   "source": [
    "# Zeigen die statistiken nach altersgruppen für alle Kunden \n",
    "FIGSIZE = (12, 4)\n",
    "YLABEL = \"number of appartments\"\n",
    "XLABEL = \"distance from the ocean\"\n",
    "GRID = True\n",
    "\n",
    "\n",
    "df_Copy[\"Distance_Group\"].value_counts().plot.bar(\n",
    "    figsize=FIGSIZE, ylabel=YLABEL, xlabel=XLABEL, ylim=(0, 1300), grid=GRID, color='turquoise')"
   ]
  },
  {
   "cell_type": "code",
   "execution_count": null,
   "metadata": {},
   "outputs": [],
   "source": [
    "\n",
    "FIGSIZE = (12, 4)\n",
    "YLABEL = \"number of customers in the group\"\n",
    "XLABEL = \"age group\"\n",
    "GRID = True\n",
    "# Farben für Männer und Frauen Definieren\n",
    "colors = {'Male': 'blue', 'Female': 'pink'}\n",
    "# Group the data by 'Age_Group' and 'Gender', and count the number of individuals in each group\n",
    "\n",
    "# die Daten nach „Age_Group“ und „Gender“ Gruppieren  und  die Anzahl der Personen in jeder Gruppe zählen \n",
    "age_gender_counts = df_Copy.groupby(['Age_Group', 'Gender'] , observed=True).size().unstack()\n",
    "\n",
    "#Zeichnen des gestapelten Balkendiagramms mit unterschiedlichen Farben für Männer und Frauen\n",
    "ax = age_gender_counts.plot.bar( stacked=True, figsize=(12, 4), color=colors.values(),  ylabel=YLABEL, xlabel=XLABEL, ylim=(0, 800), grid=GRID)\n",
    "\n",
    "\n",
    "\n"
   ]
  }
 ],
 "metadata": {
  "kernelspec": {
   "display_name": "Python 3",
   "language": "python",
   "name": "python3"
  },
  "language_info": {
   "codemirror_mode": {
    "name": "ipython",
    "version": 3
   },
   "file_extension": ".py",
   "mimetype": "text/x-python",
   "name": "python",
   "nbconvert_exporter": "python",
   "pygments_lexer": "ipython3",
   "version": "3.11.5"
  },
  "orig_nbformat": 4
 },
 "nbformat": 4,
 "nbformat_minor": 2
}
