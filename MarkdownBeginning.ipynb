{
 "cells": [
  {
   "attachments": {},
   "cell_type": "markdown",
   "metadata": {},
   "source": [
    "# Abgabe 2"
   ]
  },
  {
   "attachments": {},
   "cell_type": "markdown",
   "metadata": {},
   "source": [
    "### Gruppe 3\n",
    " - Svetlana Marchenko Matrikel NR 20236284\n",
    " - Rachid En Nasiry   Matrikel NR 20240192"
   ]
  },
  {
   "attachments": {},
   "cell_type": "markdown",
   "metadata": {},
   "source": [
    "### User case"
   ]
  },
  {
   "attachments": {},
   "cell_type": "markdown",
   "metadata": {},
   "source": [
    "Der Immobilienmarkt ist hochgradig wettbewerbsintensiv und dynamisch, wobei die Preise aufgrund zahlreicher Faktoren erheblich variieren. Eine genaue Vorhersage von Immobilienpreisen kann Käufern, Verkäufern, Immobilienmaklern und Investoren helfen, fundierte Entscheidungen zu treffen. Das Ziel besteht darin, ein Modell zu entwickeln, das den Preis einer Immobilie basierend auf deren Eigenschaften vorhersagen kann. Wir arbeiten mit Data von immobilein Makler ERA.PT. Der Immobilienmarkt in Portugal weist einige spezifische Merkmale auf, die bei der Preisvorhersage berücksichtigt werden müssen. Dazu gehören:\n",
    " - Lage: Die geografische Lage spielt eine entscheidende Rolle. Immobilien in Großstädten wie Lissabon und Porto sind tendenziell teurer als in ländlichen Gebieten. Auch die Nähe zu Küstenregionen kann die Preise erheblich beeinflussen.\n",
    " - Tourismus: In touristischen Gebieten sind Immobilienpreise oft höher, da viele Immobilien als Ferienwohnungen genutzt werden.\n",
    " - Svetlana Marchenko Matrikel NR 20236284\n",
    " - Rachid En Nasiry   Matrikel NR 20240192"
   ]
  }
 ],
 "metadata": {
  "kernelspec": {
   "display_name": "Python 3",
   "language": "python",
   "name": "python3"
  },
  "language_info": {
   "codemirror_mode": {
    "name": "ipython",
    "version": 3
   },
   "file_extension": ".py",
   "mimetype": "text/x-python",
   "name": "python",
   "nbconvert_exporter": "python",
   "pygments_lexer": "ipython3",
   "version": "3.11.5"
  },
  "orig_nbformat": 4
 },
 "nbformat": 4,
 "nbformat_minor": 2
}
